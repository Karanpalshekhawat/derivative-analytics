{
 "cells": [
  {
   "cell_type": "code",
   "execution_count": 63,
   "metadata": {},
   "outputs": [],
   "source": [
    "%run implied_volatility_numerical_computation.ipynb"
   ]
  },
  {
   "cell_type": "code",
   "execution_count": 62,
   "metadata": {},
   "outputs": [
    {
     "data": {
      "text/plain": [
       "__main__.call_option"
      ]
     },
     "execution_count": 62,
     "metadata": {},
     "output_type": "execute_result"
    }
   ],
   "source": [
    "call_option"
   ]
  },
  {
   "cell_type": "code",
   "execution_count": 6,
   "metadata": {},
   "outputs": [],
   "source": [
    "import numpy as np\n",
    "import pandas as pd\n",
    "import matplotlib.pyplot as plt"
   ]
  },
  {
   "cell_type": "code",
   "execution_count": 8,
   "metadata": {},
   "outputs": [],
   "source": [
    "# url for data file\n",
    "es_url = 'http://www.stoxx.com/download/historical_values/hbrbcpe.txt'"
   ]
  },
  {
   "cell_type": "code",
   "execution_count": 9,
   "metadata": {},
   "outputs": [],
   "source": [
    "cols = ['Date', 'SX5P', 'SX5E', 'SXXP', 'SXXE', 'SXXF', 'SXXA', 'DK5F', 'DKXF', 'DEL']"
   ]
  },
  {
   "cell_type": "code",
   "execution_count": 12,
   "metadata": {},
   "outputs": [],
   "source": [
    "# normally I do manipulation to data after reading the data but\n",
    "# always try to find if there is relevant method inside read_csv method \n",
    "# that will do manipulation to text file\n",
    "es = pd.read_csv(es_url,  # filename\n",
    "                 header=None,  # ignore column names\n",
    "                 index_col=0,  # index column (dates)\n",
    "                 parse_dates=True,  # parse these dates\n",
    "                 dayfirst=True,  # format of dates\n",
    "                 skiprows=4,  # ignore these rows\n",
    "                 sep=';',  # data separator\n",
    "                 names=cols)  # use these column names"
   ]
  },
  {
   "cell_type": "code",
   "execution_count": 14,
   "metadata": {},
   "outputs": [
    {
     "data": {
      "text/html": [
       "<div>\n",
       "<style scoped>\n",
       "    .dataframe tbody tr th:only-of-type {\n",
       "        vertical-align: middle;\n",
       "    }\n",
       "\n",
       "    .dataframe tbody tr th {\n",
       "        vertical-align: top;\n",
       "    }\n",
       "\n",
       "    .dataframe thead th {\n",
       "        text-align: right;\n",
       "    }\n",
       "</style>\n",
       "<table border=\"1\" class=\"dataframe\">\n",
       "  <thead>\n",
       "    <tr style=\"text-align: right;\">\n",
       "      <th></th>\n",
       "      <th>SX5P</th>\n",
       "      <th>SX5E</th>\n",
       "      <th>SXXP</th>\n",
       "      <th>SXXE</th>\n",
       "      <th>SXXF</th>\n",
       "      <th>SXXA</th>\n",
       "      <th>DK5F</th>\n",
       "      <th>DKXF</th>\n",
       "    </tr>\n",
       "    <tr>\n",
       "      <th>Date</th>\n",
       "      <th></th>\n",
       "      <th></th>\n",
       "      <th></th>\n",
       "      <th></th>\n",
       "      <th></th>\n",
       "      <th></th>\n",
       "      <th></th>\n",
       "      <th></th>\n",
       "    </tr>\n",
       "  </thead>\n",
       "  <tbody>\n",
       "    <tr>\n",
       "      <th>1986-12-31</th>\n",
       "      <td>775.00</td>\n",
       "      <td>900.82</td>\n",
       "      <td>82.76</td>\n",
       "      <td>98.58</td>\n",
       "      <td>98.06</td>\n",
       "      <td>69.06</td>\n",
       "      <td>645.26</td>\n",
       "      <td>65.56</td>\n",
       "    </tr>\n",
       "    <tr>\n",
       "      <th>1987-01-01</th>\n",
       "      <td>775.00</td>\n",
       "      <td>900.82</td>\n",
       "      <td>82.76</td>\n",
       "      <td>98.58</td>\n",
       "      <td>98.06</td>\n",
       "      <td>69.06</td>\n",
       "      <td>645.26</td>\n",
       "      <td>65.56</td>\n",
       "    </tr>\n",
       "    <tr>\n",
       "      <th>1987-01-02</th>\n",
       "      <td>770.89</td>\n",
       "      <td>891.78</td>\n",
       "      <td>82.57</td>\n",
       "      <td>97.80</td>\n",
       "      <td>97.43</td>\n",
       "      <td>69.37</td>\n",
       "      <td>647.62</td>\n",
       "      <td>65.81</td>\n",
       "    </tr>\n",
       "    <tr>\n",
       "      <th>1987-01-05</th>\n",
       "      <td>771.89</td>\n",
       "      <td>898.33</td>\n",
       "      <td>82.82</td>\n",
       "      <td>98.60</td>\n",
       "      <td>98.19</td>\n",
       "      <td>69.16</td>\n",
       "      <td>649.94</td>\n",
       "      <td>65.82</td>\n",
       "    </tr>\n",
       "    <tr>\n",
       "      <th>1987-01-06</th>\n",
       "      <td>775.92</td>\n",
       "      <td>902.32</td>\n",
       "      <td>83.28</td>\n",
       "      <td>99.19</td>\n",
       "      <td>98.83</td>\n",
       "      <td>69.50</td>\n",
       "      <td>652.49</td>\n",
       "      <td>66.06</td>\n",
       "    </tr>\n",
       "  </tbody>\n",
       "</table>\n",
       "</div>"
      ],
      "text/plain": [
       "              SX5P    SX5E   SXXP   SXXE   SXXF   SXXA    DK5F   DKXF\n",
       "Date                                                                 \n",
       "1986-12-31  775.00  900.82  82.76  98.58  98.06  69.06  645.26  65.56\n",
       "1987-01-01  775.00  900.82  82.76  98.58  98.06  69.06  645.26  65.56\n",
       "1987-01-02  770.89  891.78  82.57  97.80  97.43  69.37  647.62  65.81\n",
       "1987-01-05  771.89  898.33  82.82  98.60  98.19  69.16  649.94  65.82\n",
       "1987-01-06  775.92  902.32  83.28  99.19  98.83  69.50  652.49  66.06"
      ]
     },
     "execution_count": 14,
     "metadata": {},
     "output_type": "execute_result"
    }
   ],
   "source": [
    "del es['DEL']\n",
    "es.head()"
   ]
  },
  {
   "cell_type": "code",
   "execution_count": 100,
   "metadata": {},
   "outputs": [],
   "source": [
    "pricing_date = '30-09-2014'"
   ]
  },
  {
   "cell_type": "code",
   "execution_count": 20,
   "metadata": {},
   "outputs": [
    {
     "data": {
      "text/plain": [
       "(7673, 8)"
      ]
     },
     "execution_count": 20,
     "metadata": {},
     "output_type": "execute_result"
    }
   ],
   "source": [
    "es.shape"
   ]
  },
  {
   "cell_type": "code",
   "execution_count": 23,
   "metadata": {},
   "outputs": [],
   "source": [
    "import sys\n",
    "sys.path.append(r\"/Users/karanpalsinghshekhawat/Documents/Projects/Derivative-analytics-with-python/data_file_to_read/\")"
   ]
  },
  {
   "cell_type": "code",
   "execution_count": 28,
   "metadata": {},
   "outputs": [],
   "source": [
    "data = pd.HDFStore(r\"/Users/karanpalsinghshekhawat/Documents/Projects/Derivative-analytics-with-python/data_file_to_read/es50_option_data.h5\", 'r')['data']"
   ]
  },
  {
   "cell_type": "code",
   "execution_count": 32,
   "metadata": {},
   "outputs": [
    {
     "name": "stdout",
     "output_type": "stream",
     "text": [
      "current stock price is 3225.93\n"
     ]
    },
    {
     "data": {
      "text/html": [
       "<div>\n",
       "<style scoped>\n",
       "    .dataframe tbody tr th:only-of-type {\n",
       "        vertical-align: middle;\n",
       "    }\n",
       "\n",
       "    .dataframe tbody tr th {\n",
       "        vertical-align: top;\n",
       "    }\n",
       "\n",
       "    .dataframe thead th {\n",
       "        text-align: right;\n",
       "    }\n",
       "</style>\n",
       "<table border=\"1\" class=\"dataframe\">\n",
       "  <thead>\n",
       "    <tr style=\"text-align: right;\">\n",
       "      <th></th>\n",
       "      <th>Date</th>\n",
       "      <th>Strike</th>\n",
       "      <th>Call</th>\n",
       "      <th>Maturity</th>\n",
       "      <th>Put</th>\n",
       "    </tr>\n",
       "  </thead>\n",
       "  <tbody>\n",
       "    <tr>\n",
       "      <th>0</th>\n",
       "      <td>2014-09-30</td>\n",
       "      <td>1850.0</td>\n",
       "      <td>1373.6</td>\n",
       "      <td>2014-12-19</td>\n",
       "      <td>0.5</td>\n",
       "    </tr>\n",
       "    <tr>\n",
       "      <th>1</th>\n",
       "      <td>2014-09-30</td>\n",
       "      <td>1900.0</td>\n",
       "      <td>1323.7</td>\n",
       "      <td>2014-12-19</td>\n",
       "      <td>0.6</td>\n",
       "    </tr>\n",
       "    <tr>\n",
       "      <th>2</th>\n",
       "      <td>2014-09-30</td>\n",
       "      <td>1950.0</td>\n",
       "      <td>1273.8</td>\n",
       "      <td>2014-12-19</td>\n",
       "      <td>0.8</td>\n",
       "    </tr>\n",
       "    <tr>\n",
       "      <th>3</th>\n",
       "      <td>2014-09-30</td>\n",
       "      <td>2000.0</td>\n",
       "      <td>1223.9</td>\n",
       "      <td>2014-12-19</td>\n",
       "      <td>0.9</td>\n",
       "    </tr>\n",
       "    <tr>\n",
       "      <th>4</th>\n",
       "      <td>2014-09-30</td>\n",
       "      <td>2050.0</td>\n",
       "      <td>1174.1</td>\n",
       "      <td>2014-12-19</td>\n",
       "      <td>1.1</td>\n",
       "    </tr>\n",
       "  </tbody>\n",
       "</table>\n",
       "</div>"
      ],
      "text/plain": [
       "        Date  Strike    Call   Maturity  Put\n",
       "0 2014-09-30  1850.0  1373.6 2014-12-19  0.5\n",
       "1 2014-09-30  1900.0  1323.7 2014-12-19  0.6\n",
       "2 2014-09-30  1950.0  1273.8 2014-12-19  0.8\n",
       "3 2014-09-30  2000.0  1223.9 2014-12-19  0.9\n",
       "4 2014-09-30  2050.0  1174.1 2014-12-19  1.1"
      ]
     },
     "execution_count": 32,
     "metadata": {},
     "output_type": "execute_result"
    }
   ],
   "source": [
    "print(f\"current stock price is {S0}\")\n",
    "data.head()"
   ]
  },
  {
   "cell_type": "code",
   "execution_count": 128,
   "metadata": {},
   "outputs": [],
   "source": [
    "def calculate_imp_vol(data):\n",
    "    ln = len(data)\n",
    "    data['imp_vol'] = 0\n",
    "    \"\"\"\n",
    "    We are using forward moneyness, meaning let define forward as S*exp(r*ttm),\n",
    "    then we will calculate moneyness as (Strike - forward) / forward\n",
    "    if abs(moneyness) < 0.3, then only we will compute implied vol\n",
    "    otherwise leave it as it as\n",
    "    \"\"\"\n",
    "    tol = 0.30\n",
    "    vol = 0.02\n",
    "    rf = 0.05\n",
    "    S0 = es['SX5E']['30-09-2014']\n",
    "    for i in data.index:\n",
    "        t = data['Date'][i]\n",
    "        T = data['Maturity'][i]\n",
    "        ttm = (T-t).days / 365.0\n",
    "        forward = S0 * np.exp(rf*ttm) \n",
    "        if abs((data['Strike'][i] - forward)/forward) < tol:\n",
    "            obj = call_option(S0, data.iloc[i].Strike, t, T, rf, vol) # vol is initial estimation\n",
    "            data.loc[i, 'imp_vol'] = obj.implied_vol(data['Call'][i])\n",
    "    \n",
    "    return data"
   ]
  },
  {
   "cell_type": "code",
   "execution_count": 130,
   "metadata": {},
   "outputs": [],
   "source": [
    "df = calculate_imp_vol(data)"
   ]
  },
  {
   "cell_type": "code",
   "execution_count": 131,
   "metadata": {},
   "outputs": [
    {
     "data": {
      "text/plain": [
       "30.906562097187326"
      ]
     },
     "execution_count": 131,
     "metadata": {},
     "output_type": "execute_result"
    }
   ],
   "source": [
    "df['imp_vol'].sum()"
   ]
  },
  {
   "cell_type": "code",
   "execution_count": 132,
   "metadata": {},
   "outputs": [],
   "source": [
    "markers = ['.', 'o', '^', 'v', 'x', 'D', 'd', '>', '<']\n",
    "\n",
    "\n",
    "def plot_imp_vols(data):\n",
    "    ''' Plot the implied volatilites. '''\n",
    "    maturities = sorted(set(data['Maturity']))\n",
    "    plt.figure(figsize=(15, 8))\n",
    "    for i, mat in enumerate(maturities):\n",
    "        dat = data[(data['Maturity'] == mat) & (data['imp_vol'] > 0)]\n",
    "        plt.plot(dat['Strike'].values, dat['imp_vol'].values,\n",
    "                 'b%s' % markers[i], label=str(mat)[:10])\n",
    "    plt.grid()\n",
    "    plt.legend()\n",
    "    plt.xlabel('strike')\n",
    "    plt.ylabel('implied volatility')"
   ]
  },
  {
   "cell_type": "code",
   "execution_count": 133,
   "metadata": {},
   "outputs": [
    {
     "data": {
      "image/png": "[encoded data removed]",
      "text/plain": [
       "<Figure size 1080x576 with 1 Axes>"
      ]
     },
     "metadata": {
      "needs_background": "light"
     },
     "output_type": "display_data"
    }
   ],
   "source": [
    "plot_imp_vols(df)"
   ]
  },
  {
   "cell_type": "code",
   "execution_count": 121,
   "metadata": {},
   "outputs": [
    {
     "data": {
      "text/html": [
       "<div>\n",
       "<style scoped>\n",
       "    .dataframe tbody tr th:only-of-type {\n",
       "        vertical-align: middle;\n",
       "    }\n",
       "\n",
       "    .dataframe tbody tr th {\n",
       "        vertical-align: top;\n",
       "    }\n",
       "\n",
       "    .dataframe thead th {\n",
       "        text-align: right;\n",
       "    }\n",
       "</style>\n",
       "<table border=\"1\" class=\"dataframe\">\n",
       "  <thead>\n",
       "    <tr style=\"text-align: right;\">\n",
       "      <th></th>\n",
       "      <th>Date</th>\n",
       "      <th>Strike</th>\n",
       "      <th>Call</th>\n",
       "      <th>Maturity</th>\n",
       "      <th>Put</th>\n",
       "      <th>imp_vol</th>\n",
       "    </tr>\n",
       "  </thead>\n",
       "  <tbody>\n",
       "  </tbody>\n",
       "</table>\n",
       "</div>"
      ],
      "text/plain": [
       "Empty DataFrame\n",
       "Columns: [Date, Strike, Call, Maturity, Put, imp_vol]\n",
       "Index: []"
      ]
     },
     "execution_count": 121,
     "metadata": {},
     "output_type": "execute_result"
    }
   ],
   "source": [
    "df[df['imp_vol'] < 0]"
   ]
  },
  {
   "cell_type": "markdown",
   "metadata": {},
   "source": [
    "## Results are not matching with what I can see in Book,\n",
    "\n",
    "## Strong doubt on how to treat rf, in the book, it is inititated as - which may not be right"
   ]
  },
  {
   "cell_type": "code",
   "execution_count": null,
   "metadata": {},
   "outputs": [],
   "source": []
  }
 ],
 "metadata": {
  "kernelspec": {
   "display_name": "Python 3",
   "language": "python",
   "name": "python3"
  },
  "language_info": {
   "codemirror_mode": {
    "name": "ipython",
    "version": 3
   },
   "file_extension": ".py",
   "mimetype": "text/x-python",
   "name": "python",
   "nbconvert_exporter": "python",
   "pygments_lexer": "ipython3",
   "version": "3.7.3"
  }
 },
 "nbformat": 4,
 "nbformat_minor": 2
}
