{
 "cells": [
  {
   "cell_type": "code",
   "execution_count": 1,
   "metadata": {},
   "outputs": [],
   "source": [
    "from math import log, sqrt, exp\n",
    "from scipy import stats\n",
    "from scipy.optimize import fsolve"
   ]
  },
  {
   "cell_type": "code",
   "execution_count": 3,
   "metadata": {},
   "outputs": [],
   "source": [
    "class call_option():\n",
    "    \n",
    "    def __init__(self, s0, strike, pricing_date, maturity_date, rf, sigma):\n",
    "        self.s0 = float(s0)\n",
    "        self.K = strike\n",
    "        self.t = pricing_date\n",
    "        self.M = maturity_date\n",
    "        self.r = rf\n",
    "        self.sigma = sigma\n",
    "        \n",
    "    def update_ttm(self):\n",
    "        if self.t > self.M:\n",
    "            raise ValueError(\"Maturity date should be greater than pricing date.\")\n",
    "        self.T = (self.M - self.t).days / 365\n",
    "    \n",
    "    def d1(self):\n",
    "        ''' Helper function for N(d1) and N(d2) '''\n",
    "        d1 = ((log(self.S0 / self.K) + (self.r + 0.5 * self.sigma ** 2) * self.T) / (self.sigma * sqrt(self.T)))\n",
    "        return d1\n",
    "    \n",
    "    def value(self):\n",
    "        ''' Return option value. '''\n",
    "        self.update_ttm()\n",
    "        d1 = self.d1()\n",
    "        d2 = ((log(self.S0 / self.K) + (self.r - 0.5 * self.sigma ** 2) * self.T) / (self.sigma * sqrt(self.T)))\n",
    "        value = (self.S0 * stats.norm.cdf(d1, 0.0, 1.0) - self.K * exp(-self.r * self.T) * stats.norm.cdf(d2, 0.0, 1.0))\n",
    "        return value\n",
    "    \n",
    "    def vega(self):\n",
    "        ''' Return Vega of option. '''\n",
    "        self.update_ttm()\n",
    "        d1 = self.d1()\n",
    "        vega = self.S0 * stats.norm.pdf(d1, 0.0, 1.0) * sqrt(self.T)\n",
    "        return vega\n",
    "    \n",
    "    def implied_vol(self, c0):\n",
    "        \"\"\"\n",
    "        Reverse solving the black scholes equation to find out implied vol\n",
    "        No direct analytical method to solve this, so, we use numerical method to find out solution iteratively  \n",
    "        \"\"\"\n",
    "        sigma_est = 0.2 # first guess for vol\n",
    "        option = call_option(self.s0, self.K, self.t, self.M, self.r, sigma_est) # create a new call option object using the sigme estimated\n",
    "        \n",
    "        option.update_ttm()\n",
    "        \n",
    "        def difference(sigma):\n",
    "            option.sigma = sigma\n",
    "            return option.value() - c0\n",
    "        \n",
    "        iv = fsolve(difference, sigma_est)[0]\n",
    "        \n",
    "        return iv       "
   ]
  },
  {
   "cell_type": "code",
   "execution_count": null,
   "metadata": {},
   "outputs": [],
   "source": []
  }
 ],
 "metadata": {
  "kernelspec": {
   "display_name": "Python 3",
   "language": "python",
   "name": "python3"
  },
  "language_info": {
   "codemirror_mode": {
    "name": "ipython",
    "version": 3
   },
   "file_extension": ".py",
   "mimetype": "text/x-python",
   "name": "python",
   "nbconvert_exporter": "python",
   "pygments_lexer": "ipython3",
   "version": "3.7.3"
  }
 },
 "nbformat": 4,
 "nbformat_minor": 2
}
