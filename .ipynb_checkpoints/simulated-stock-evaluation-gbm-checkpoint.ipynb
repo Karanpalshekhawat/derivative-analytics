{
 "cells": [
  {
   "cell_type": "markdown",
   "metadata": {},
   "source": [
    "### Geometric Brownian motion of the stock evaluation is given by:-\n",
    "\n",
    "### $ds_t = r*S_t*dt + \\sigma*s_t*dZ_t$\n",
    "\n",
    "### If we try to solve above equation using normal calculus, we will have different solution but the second component in above equation represent stochastic component meaning a brownian process (fluctuation around some mean and variance)\n",
    "\n",
    "### variance of fluctuation is proportional to dt (st.dev is proportional to sqrt(dt) using iid assumption), thus it implies that we cannot ignore the second order derivative in the talor series expansion which results in a significant dt component\n",
    "\n",
    "### thus final solution to the equation is below\n",
    "\n",
    "### $S_t = S_{t-\\Delta t}*\\exp((r - \\sigma^2/2)*\\Delta t + \\sigma*\\sqrt(\\Delta t)*z_t)$"
   ]
  },
  {
   "cell_type": "code",
   "execution_count": null,
   "metadata": {},
   "outputs": [],
   "source": []
  }
 ],
 "metadata": {
  "kernelspec": {
   "display_name": "Python 3",
   "language": "python",
   "name": "python3"
  },
  "language_info": {
   "codemirror_mode": {
    "name": "ipython",
    "version": 3
   },
   "file_extension": ".py",
   "mimetype": "text/x-python",
   "name": "python",
   "nbconvert_exporter": "python",
   "pygments_lexer": "ipython3",
   "version": "3.7.3"
  }
 },
 "nbformat": 4,
 "nbformat_minor": 2
}
