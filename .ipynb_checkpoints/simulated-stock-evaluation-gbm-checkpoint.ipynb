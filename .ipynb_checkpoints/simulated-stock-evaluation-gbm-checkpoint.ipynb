{
 "cells": [
  {
   "cell_type": "markdown",
   "metadata": {},
   "source": [
    "### Geometric Brownian motion of the stock evaluation is given by:-\n",
    "\n",
    "### $ds_t = r*S_t*dt + \\sigma*s_t*dZ_t$\n",
    "\n",
    "### If we try to solve above equation using normal calculus, we will have different solution but the second component in above equation represent stochastic component meaning a brownian process (fluctuation around some mean and variance)\n",
    "\n",
    "### variance of fluctuation is proportional to dt (st.dev is proportional to sqrt(dt) using iid assumption), thus it implies that we cannot ignore the second order derivative in the taylor series expansion which results in a significant dt component\n",
    "\n",
    "### thus final solution to the equation is below\n",
    "\n",
    "### $S_t = S_{t-\\Delta t}*\\exp((r - \\sigma^2/2)*\\Delta t + \\sigma*\\sqrt(\\Delta t)*z_t)$"
   ]
  },
  {
   "cell_type": "code",
   "execution_count": 1,
   "metadata": {},
   "outputs": [],
   "source": [
    "import math\n",
    "import numpy as np\n",
    "import pandas as pd\n",
    "import scipy.stats as scs\n",
    "import statsmodels.api as sm\n",
    "import matplotlib.pyplot as plt"
   ]
  },
  {
   "cell_type": "code",
   "execution_count": 2,
   "metadata": {},
   "outputs": [],
   "source": [
    "def pdf_of_normal_dist(x, mu, sigma):\n",
    "    normal_z = (x - mu) / sigma\n",
    "    return np.exp(-0.5 * z ** 2) / math.sqrt(2 * math.pi * sigma ** 2)"
   ]
  },
  {
   "cell_type": "code",
   "execution_count": 29,
   "metadata": {},
   "outputs": [],
   "source": [
    "def simulate_gbm(s0, time_horizon, rf, vol, st_date, end_date):\n",
    "    \"\"\"\n",
    "    function returns stock evaluation across dates based on parameters given as an argument\n",
    "    \"\"\"\n",
    "    np.random.seed(250000) # so that I can repeat the same simulation\n",
    "    df = pd.date_range(start=st_date, end=end_date, freq=\"B\")\n",
    "    time_steps = len(df)\n",
    "    dt = 1 / 252 \n",
    "    discount_factor = math.exp(-rf*dt) # single day discount factor\n",
    "    \n",
    "    rand_normal_matrix_for_dz = np.random.standard_normal((time_steps, 1))\n",
    "    \n",
    "    stock = np.zeros_like(rand_normal_matrix_for_dz) # same size for number of days\n",
    "    stock[0] = s0\n",
    "    \n",
    "    \n",
    "    for t in range(1, time_steps):\n",
    "        stock[t] = stock[t-1] * np.exp((rf - vol**2/2)*dt + vol*np.sqrt(dt)*rand_normal_matrix_for_dz[t])\n",
    "    \n",
    "    gbm = pd.DataFrame(stock, index=df, columns=[\"index\"])\n",
    "    \n",
    "    return gbm"
   ]
  },
  {
   "cell_type": "code",
   "execution_count": 30,
   "metadata": {},
   "outputs": [],
   "source": [
    "stock_profile = simulate_gbm(100, 10, 0.05, 0.2, \"01-01-2012\", \"01-01-2022\", )"
   ]
  },
  {
   "cell_type": "code",
   "execution_count": null,
   "metadata": {},
   "outputs": [],
   "source": []
  },
  {
   "cell_type": "code",
   "execution_count": null,
   "metadata": {},
   "outputs": [],
   "source": []
  },
  {
   "cell_type": "code",
   "execution_count": null,
   "metadata": {},
   "outputs": [],
   "source": []
  }
 ],
 "metadata": {
  "kernelspec": {
   "display_name": "Python 3",
   "language": "python",
   "name": "python3"
  },
  "language_info": {
   "codemirror_mode": {
    "name": "ipython",
    "version": 3
   },
   "file_extension": ".py",
   "mimetype": "text/x-python",
   "name": "python",
   "nbconvert_exporter": "python",
   "pygments_lexer": "ipython3",
   "version": "3.7.3"
  }
 },
 "nbformat": 4,
 "nbformat_minor": 2
}
