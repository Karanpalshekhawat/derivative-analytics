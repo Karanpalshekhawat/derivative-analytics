{
 "cells": [
  {
   "cell_type": "markdown",
   "metadata": {},
   "source": [
    "### Geometric Brownian motion of the stock evaluation is given by:-\n",
    "\n",
    "### $ds_t = r*S_t*dt + \\sigma*s_t*dZ_t$\n",
    "\n",
    "### If we try to solve above equation using normal calculus, we will have different solution but the second component in above equation represent stochastic component meaning a brownian process (fluctuation around some mean and variance)\n",
    "\n",
    "### variance of fluctuation is proportional to dt (st.dev is proportional to sqrt(dt) using iid assumption), thus it implies that we cannot ignore the second order derivative in the taylor series expansion which results in a significant dt component\n",
    "\n",
    "### thus final solution to the equation is below\n",
    "\n",
    "### $S_t = S_{t-\\Delta t}*\\exp((r - \\sigma^2/2)*\\Delta t + \\sigma*\\sqrt(\\Delta t)*z_t)$"
   ]
  },
  {
   "cell_type": "code",
   "execution_count": 1,
   "metadata": {},
   "outputs": [],
   "source": [
    "import math\n",
    "import numpy as np\n",
    "import pandas as pd\n",
    "import scipy.stats as scs\n",
    "import statsmodels.api as sm\n",
    "import matplotlib.pyplot as plt"
   ]
  },
  {
   "cell_type": "code",
   "execution_count": 2,
   "metadata": {},
   "outputs": [],
   "source": [
    "def pdf_of_normal_dist(x, mu, sigma):\n",
    "    normal_z = (x - mu) / sigma\n",
    "    return np.exp(-0.5 * z ** 2) / math.sqrt(2 * math.pi * sigma ** 2)"
   ]
  },
  {
   "cell_type": "code",
   "execution_count": 29,
   "metadata": {},
   "outputs": [],
   "source": [
    "def simulate_gbm(s0, time_horizon, rf, vol, st_date, end_date):\n",
    "    \"\"\"\n",
    "    function returns stock evaluation across dates based on parameters given as an argument\n",
    "    \"\"\"\n",
    "    np.random.seed(250000) # so that I can repeat the same simulation\n",
    "    df = pd.date_range(start=st_date, end=end_date, freq=\"B\")\n",
    "    time_steps = len(df)\n",
    "    dt = 1 / 252 \n",
    "    discount_factor = math.exp(-rf*dt) # single day discount factor\n",
    "    \n",
    "    rand_normal_matrix_for_dz = np.random.standard_normal((time_steps, 1))\n",
    "    \n",
    "    stock = np.zeros_like(rand_normal_matrix_for_dz) # same size for number of days\n",
    "    stock[0] = s0\n",
    "    \n",
    "    \n",
    "    for t in range(1, time_steps):\n",
    "        stock[t] = stock[t-1] * np.exp((rf - vol**2/2)*dt + vol*np.sqrt(dt)*rand_normal_matrix_for_dz[t])\n",
    "    \n",
    "    gbm = pd.DataFrame(stock, index=df, columns=[\"index\"])\n",
    "    \n",
    "    return gbm"
   ]
  },
  {
   "cell_type": "code",
   "execution_count": 33,
   "metadata": {},
   "outputs": [],
   "source": [
    "stock_profile = simulate_gbm(100, 10, 0.05, 0.2, \"01-01-2012\", \"01-01-2022\")"
   ]
  },
  {
   "cell_type": "code",
   "execution_count": 51,
   "metadata": {},
   "outputs": [],
   "source": [
    "def calculate_historical_annualized_vol_of_lognormal_returns(gbm):\n",
    "    gbm['returns'] = np.log(gbm['index'] / gbm['index'].shift(1))\n",
    "    \n",
    "    # variance (multiplied by 252 to annualized it)\n",
    "    gbm['realized_var'] = 252 * np.cumsum(gbm.returns**2) / np.arange(len(gbm))\n",
    "    gbm['realized_vol'] = np.sqrt(gbm['realized_var'])\n",
    "    gbm = gbm.dropna()\n",
    "    \n",
    "    return gbm"
   ]
  },
  {
   "cell_type": "code",
   "execution_count": 52,
   "metadata": {},
   "outputs": [],
   "source": [
    "vol_returns = calculate_historical_annualized_vol_of_lognormal_returns(stock_profile)"
   ]
  },
  {
   "cell_type": "code",
   "execution_count": 55,
   "metadata": {},
   "outputs": [],
   "source": [
    "# this method is copied from book\n",
    "def print_statistics(data):\n",
    "    print(\"RETURN SAMPLE STATISTICS\")\n",
    "    print(\"---------------------------------------------\")\n",
    "    print(\"Mean of Daily  Log Returns %9.6f\" % np.mean(data['returns']))\n",
    "    print(\"Mean of Annua. Log Returns %9.6f\" %\n",
    "          (np.mean(data['returns']) * 252))\n",
    "    print(\"Std  of Annua. Log Returns %9.6f\" %\n",
    "          (np.std(data['returns']) * math.sqrt(252)))\n",
    "    print(\"---------------------------------------------\")\n",
    "    print(\"Skew of Sample Log Returns %9.6f\" % scs.skew(data['returns']))\n",
    "    print(\"Skew Normal Test p-value   %9.6f\" %\n",
    "          scs.skewtest(data['returns'])[1])\n",
    "    print(\"---------------------------------------------\")\n",
    "    print(\"Kurt of Sample Log Returns %9.6f\" % scs.kurtosis(data['returns']))\n",
    "    print(\"Kurt Normal Test p-value   %9.6f\" %\n",
    "          scs.kurtosistest(data['returns'])[1])\n",
    "    print(\"---------------------------------------------\")\n",
    "    print(\"Normal Test p-value        %9.6f\" %\n",
    "          scs.normaltest(data['returns'])[1])\n",
    "    print(\"---------------------------------------------\")\n",
    "    print(\"Realized Volatility        %9.6f\" % data['rea_vol'].iloc[-1])\n",
    "    print(\"Realized Variance          %9.6f\" % data['rea_var'].iloc[-1])\n",
    "    \n",
    "    return"
   ]
  },
  {
   "cell_type": "code",
   "execution_count": null,
   "metadata": {},
   "outputs": [],
   "source": []
  },
  {
   "cell_type": "code",
   "execution_count": null,
   "metadata": {},
   "outputs": [],
   "source": []
  },
  {
   "cell_type": "code",
   "execution_count": null,
   "metadata": {},
   "outputs": [],
   "source": []
  },
  {
   "cell_type": "code",
   "execution_count": null,
   "metadata": {},
   "outputs": [],
   "source": []
  }
 ],
 "metadata": {
  "kernelspec": {
   "display_name": "Python 3",
   "language": "python",
   "name": "python3"
  },
  "language_info": {
   "codemirror_mode": {
    "name": "ipython",
    "version": 3
   },
   "file_extension": ".py",
   "mimetype": "text/x-python",
   "name": "python",
   "nbconvert_exporter": "python",
   "pygments_lexer": "ipython3",
   "version": "3.7.3"
  }
 },
 "nbformat": 4,
 "nbformat_minor": 2
}
