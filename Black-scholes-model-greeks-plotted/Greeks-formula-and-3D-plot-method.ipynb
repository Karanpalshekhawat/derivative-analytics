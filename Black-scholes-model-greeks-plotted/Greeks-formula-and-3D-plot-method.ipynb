{
 "cells": [
  {
   "cell_type": "code",
   "execution_count": 1,
   "metadata": {},
   "outputs": [],
   "source": [
    "%run BSM-formula-implemented.ipynb"
   ]
  },
  {
   "cell_type": "markdown",
   "metadata": {},
   "source": [
    "## In this notebook, i tried to plot different greeks by varying strikes and time to maturity and observe how it changes.\n",
    "\n",
    "## implmented direct analyticsl formulas of greeks"
   ]
  },
  {
   "cell_type": "code",
   "execution_count": 3,
   "metadata": {},
   "outputs": [],
   "source": [
    "import math\n",
    "import numpy as np\n",
    "import matplotlib as mpl\n",
    "import matplotlib.pyplot as plt\n",
    "import mpl_toolkits.mplot3d.axes3d as p3 # new-package"
   ]
  },
  {
   "cell_type": "code",
   "execution_count": 4,
   "metadata": {},
   "outputs": [],
   "source": [
    "def BSM_delta(St, K, t, T, r, sigma):\n",
    "    return N(d1f(St, K, t, T, r, sigma))"
   ]
  },
  {
   "cell_type": "code",
   "execution_count": 5,
   "metadata": {},
   "outputs": [],
   "source": [
    "\"\"\"\n",
    "Important thing to remember,\n",
    "derivative of cumulative standard normal distribution \n",
    "with x is pdf of x ***\n",
    "\"\"\"\n",
    "\n",
    "def BSM_gamma(St, K, t, T, r, sigma):\n",
    "    denominator = St*sigma*np.sqrt(T-t)\n",
    "    numerator = dN(d1f(St, K, t, T, r, sigma))\n",
    "    return numerator / denominator"
   ]
  },
  {
   "cell_type": "code",
   "execution_count": 6,
   "metadata": {},
   "outputs": [],
   "source": [
    "def BSM_theta(St, K, t, T, r, sigma):\n",
    "    d1 = d1f(St, K, t, T, r, sigma)\n",
    "    d2 = d1 - sigma * np.sqrt(T - t)\n",
    "    first_term = (-St * dN(d1) * sigma) / (2*(T-t))\n",
    "    second_term = -r*np.exp(-r*(T-t))*K*N(d2)\n",
    "    return first_term + second_term"
   ]
  },
  {
   "cell_type": "code",
   "execution_count": 7,
   "metadata": {},
   "outputs": [],
   "source": [
    "def BSM_rho(St, K, t, T, r, sigma):\n",
    "    d1 = d1f(St, K, t, T, r, sigma)\n",
    "    d2 = d1 - sigma * np.sqrt(T - t)\n",
    "    return K * (T - t) * np.exp(-r*(T-t)) * N(d2)"
   ]
  },
  {
   "cell_type": "code",
   "execution_count": 8,
   "metadata": {},
   "outputs": [],
   "source": [
    "def BSM_vega(St, K, t, T, r, sigma):\n",
    "    d1 = d1f(St, K, t, T, r, sigma)\n",
    "    vega = St * dN(d1) * math.sqrt(T - t)\n",
    "    return vega"
   ]
  },
  {
   "cell_type": "code",
   "execution_count": 13,
   "metadata": {},
   "outputs": [],
   "source": [
    "def plot_greeks(function, greek):\n",
    "    St = 100.0  # index level\n",
    "    r = 0.05  # risk-less short rate\n",
    "    sigma = 0.2  # volatility\n",
    "    t = 0.0  # valuation date\n",
    "    \n",
    "    # we will vary T and K to plot the graph\n",
    "    time_list = np.linspace(0.01, 1, 25)\n",
    "    strike_list = np.linspace(80, 120, 25)\n",
    "    \n",
    "    V = np.zeros((len(time_list), len(strike_list)), dtype=np.float)\n",
    "    \n",
    "    for j in range(len(strike_list)):\n",
    "        for k in range(len(time_list)):\n",
    "            V[k, j] = function(St, strike_list[j], t, time_list[k], r, sigma)\n",
    "            \n",
    "    # 3-D plotting the V matrix\n",
    "    x, y = np.meshgrid(strike_list, time_list)\n",
    "    fig = plt.figure(figsize=(9, 5))\n",
    "    plot = p3.Axes3D(fig)\n",
    "    plot.plot_wireframe(x, y, V)\n",
    "    plot.set_xlabel(\"Strike\")\n",
    "    plot.set_ylabel(\"Maturity\")\n",
    "    plot.set_zlabel(f\"{greek}(K, T)\")\n",
    "    "
   ]
  },
  {
   "cell_type": "code",
   "execution_count": null,
   "metadata": {},
   "outputs": [],
   "source": []
  },
  {
   "cell_type": "code",
   "execution_count": null,
   "metadata": {},
   "outputs": [],
   "source": []
  }
 ],
 "metadata": {
  "kernelspec": {
   "display_name": "Python 3",
   "language": "python",
   "name": "python3"
  },
  "language_info": {
   "codemirror_mode": {
    "name": "ipython",
    "version": 3
   },
   "file_extension": ".py",
   "mimetype": "text/x-python",
   "name": "python",
   "nbconvert_exporter": "python",
   "pygments_lexer": "ipython3",
   "version": "3.7.3"
  }
 },
 "nbformat": 4,
 "nbformat_minor": 2
}
