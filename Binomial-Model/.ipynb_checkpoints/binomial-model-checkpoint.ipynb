{
 "cells": [
  {
   "cell_type": "markdown",
   "metadata": {},
   "source": [
    "## For European options, option value from binomial model fluctuates around the value derived from black scholes model, thus, there is not really any advantage of using binomial model for european options.\n",
    "\n",
    "## Binomial model is easy to understand, helps to analyze the working of the algorithm step by step and a good tool for teaching. \n",
    "\n",
    "## Real advantage of Binomial model is in pricing on those options whose value depends upon the path like barrier options or asian options, options with arbitrary payoffs at time T and ofcourse American and Bermudan options"
   ]
  },
  {
   "cell_type": "code",
   "execution_count": 1,
   "metadata": {},
   "outputs": [],
   "source": [
    "import math\n",
    "import numpy as np\n",
    "import matplotlib.pyplot as plt"
   ]
  },
  {
   "cell_type": "code",
   "execution_count": 4,
   "metadata": {},
   "outputs": [],
   "source": [
    "%run ../Black-scholes-model-greeks-plotted/BSM-formula-implemented.ipynb"
   ]
  },
  {
   "cell_type": "code",
   "execution_count": 6,
   "metadata": {},
   "outputs": [],
   "source": [
    "def get_binomial_parameters(sigma, r, dt):\n",
    "    \"\"\"\n",
    "    sigma corresponds to real world annualized vol.\n",
    "    meaning roughly underlying will increase or decrease by this much percent in a year\n",
    "    so, for any dt, volatility will be sigma*sqrt(dt)\n",
    "    \"\"\"\n",
    "    up = np.exp(sigma*np.sqrt(dt))\n",
    "    down = np.exp(-sigma*np.sqrt(dt)) # down can also be written as 1 / up\n",
    "    \"\"\"S(t+dt) = exp(-rdt)*expunder risk neutral probability of St\"\"\"\n",
    "    risk_neutral_conversion_factor = (np.exp(r*dt) - down) / (up - down)\n",
    "    # above probability is computed assuming martingale property\n",
    "    return up, down, risk_neutral_conversion_factor"
   ]
  },
  {
   "cell_type": "code",
   "execution_count": 94,
   "metadata": {},
   "outputs": [],
   "source": [
    "def crr_value(S0, K, T, r, sigma, otype, M=4):\n",
    "    \"\"\"\n",
    "    Implementing cox-ross-rubinstein (binomial_model)\n",
    "    \"\"\"\n",
    "    dt = T / M\n",
    "    df = np.exp(-r*dt)\n",
    "    \n",
    "    up, down, risk_neutral_conversion_factor = get_binomial_parameters(sigma, r, dt)\n",
    "    \n",
    "    # matrix creation\n",
    "    mu = np.arange(M+1)\n",
    "    mu = np.resize(mu, (M + 1, M + 1))\n",
    "    md = np.transpose(mu)\n",
    "    mu = u ** (mu - md)\n",
    "    md = d ** md\n",
    "    S = S0 * mu * md\n",
    "    \n",
    "    if otype == \"call\":\n",
    "        V = np.maximum(S - K, 0)\n",
    "    else:\n",
    "        V = np.maximum(K - S, 0) # for put\n",
    "    \n",
    "    z = 0\n",
    "    # backward iteration\n",
    "    for t in range(M - 1, -1, -1):\n",
    "        V[0 : M - z, t] = (risk_neutral_conversion_factor * V[0 : M - z, t + 1]\n",
    "                          + (1 - risk_neutral_conversion_factor) * V[1:M - z + 1, t+1])*df\n",
    "        z+=1\n",
    "            \n",
    "    return V[0,0]"
   ]
  },
  {
   "cell_type": "code",
   "execution_count": 95,
   "metadata": {},
   "outputs": [],
   "source": [
    "S0 = 100.0  # index level\n",
    "K = 100.0  # option strike\n",
    "T = 1.0  # maturity date\n",
    "r = 0.05  # risk-less short rate\n",
    "sigma = 0.2  # volatility"
   ]
  },
  {
   "cell_type": "code",
   "execution_count": 96,
   "metadata": {},
   "outputs": [
    {
     "data": {
      "text/plain": [
       "9.970522921901265"
      ]
     },
     "execution_count": 96,
     "metadata": {},
     "output_type": "execute_result"
    }
   ],
   "source": [
    "crr_value(S0, K, T, r, sigma, \"call\")"
   ]
  },
  {
   "cell_type": "code",
   "execution_count": null,
   "metadata": {},
   "outputs": [],
   "source": []
  }
 ],
 "metadata": {
  "kernelspec": {
   "display_name": "Python 3",
   "language": "python",
   "name": "python3"
  },
  "language_info": {
   "codemirror_mode": {
    "name": "ipython",
    "version": 3
   },
   "file_extension": ".py",
   "mimetype": "text/x-python",
   "name": "python",
   "nbconvert_exporter": "python",
   "pygments_lexer": "ipython3",
   "version": "3.7.3"
  }
 },
 "nbformat": 4,
 "nbformat_minor": 2
}
